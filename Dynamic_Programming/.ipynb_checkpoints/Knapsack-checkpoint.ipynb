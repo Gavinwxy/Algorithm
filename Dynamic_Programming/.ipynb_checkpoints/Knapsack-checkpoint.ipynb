{
 "cells": [
  {
   "cell_type": "code",
   "execution_count": 147,
   "metadata": {},
   "outputs": [],
   "source": [
    "file = open('Knapsack_test_1.txt', 'r')\n",
    "vals = []\n",
    "sizes = []\n",
    "for idx, item in enumerate(file.readlines()):\n",
    "    if idx == 0:\n",
    "        capacity = int(item.split(\" \")[0])\n",
    "    else:\n",
    "        val, size = item.split(\" \")\n",
    "        vals.append(int(val))\n",
    "        sizes.append(int(size))"
   ]
  },
  {
   "cell_type": "code",
   "execution_count": 148,
   "metadata": {},
   "outputs": [],
   "source": [
    "import numpy as np\n",
    "\n",
    "def knapsack(c, vals, sizes):\n",
    "    rowNum = len(vals) + 1 # row number of soulution table: No. of items\n",
    "    colNum = c + 1 # column number of soulution table: knapsack capacity\n",
    "    vals.insert(0,0) # Some adjustment on index\n",
    "    sizes.insert(0,0)\n",
    "    solTab = np.zeros((rowNum, colNum), 'int')\n",
    "    \n",
    "    # Forward pass\n",
    "    for i in range(1, rowNum):\n",
    "        for j in range(0, colNum):\n",
    "            if sizes[i] > j: # ith item is not included\n",
    "                solTab[i][j] = solTab[i-1][j]\n",
    "            else:\n",
    "                # Case 1: ith item not included, Case 2: ith item included (more complex) \n",
    "                solTab[i][j] = max(solTab[i-1][j], solTab[i-1][j-sizes[i]]+vals[i])\n",
    "    \n",
    "    # Backward pass\n",
    "    solIdx = []\n",
    "    cTemp = c\n",
    "    idx = len(vals) - 1 # number of items before insertion\n",
    "    while idx>=1:\n",
    "        if sizes[idx] <= cTemp and (solTab[idx-1][cTemp-sizes[idx]] + vals[idx]) >= solTab[idx-1][cTemp]:\n",
    "            solIdx.append(idx)\n",
    "            cTemp -= sizes[idx]\n",
    "        idx -= 1\n",
    "    return solTab[-1][-1], solIdx[::-1]"
   ]
  },
  {
   "cell_type": "code",
   "execution_count": 149,
   "metadata": {},
   "outputs": [],
   "source": [
    "sol, idx = knapsack(capacity, vals, sizes)"
   ]
  },
  {
   "cell_type": "code",
   "execution_count": 150,
   "metadata": {},
   "outputs": [
    {
     "data": {
      "text/plain": [
       "2493893"
      ]
     },
     "execution_count": 150,
     "metadata": {},
     "output_type": "execute_result"
    }
   ],
   "source": [
    "sol"
   ]
  },
  {
   "cell_type": "code",
   "execution_count": 151,
   "metadata": {},
   "outputs": [
    {
     "data": {
      "text/plain": [
       "[6,\n",
       " 7,\n",
       " 9,\n",
       " 10,\n",
       " 11,\n",
       " 14,\n",
       " 15,\n",
       " 16,\n",
       " 19,\n",
       " 24,\n",
       " 25,\n",
       " 26,\n",
       " 29,\n",
       " 32,\n",
       " 37,\n",
       " 41,\n",
       " 42,\n",
       " 43,\n",
       " 46,\n",
       " 50,\n",
       " 54,\n",
       " 57,\n",
       " 58,\n",
       " 59,\n",
       " 62,\n",
       " 66,\n",
       " 69,\n",
       " 72,\n",
       " 75,\n",
       " 76,\n",
       " 77,\n",
       " 78,\n",
       " 80,\n",
       " 83,\n",
       " 89,\n",
       " 91,\n",
       " 92,\n",
       " 93,\n",
       " 99,\n",
       " 100]"
      ]
     },
     "execution_count": 151,
     "metadata": {},
     "output_type": "execute_result"
    }
   ],
   "source": [
    "idx"
   ]
  },
  {
   "cell_type": "code",
   "execution_count": null,
   "metadata": {},
   "outputs": [],
   "source": []
  }
 ],
 "metadata": {
  "kernelspec": {
   "display_name": "Python 3",
   "language": "python",
   "name": "python3"
  },
  "language_info": {
   "codemirror_mode": {
    "name": "ipython",
    "version": 3
   },
   "file_extension": ".py",
   "mimetype": "text/x-python",
   "name": "python",
   "nbconvert_exporter": "python",
   "pygments_lexer": "ipython3",
   "version": "3.7.1"
  }
 },
 "nbformat": 4,
 "nbformat_minor": 2
}
