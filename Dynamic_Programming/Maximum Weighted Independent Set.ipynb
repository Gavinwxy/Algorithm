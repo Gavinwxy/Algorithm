{
 "cells": [
  {
   "cell_type": "code",
   "execution_count": 19,
   "metadata": {},
   "outputs": [],
   "source": [
    "def MWIS(weights):\n",
    "    # Forward pass \n",
    "    length = len(weights)\n",
    "    a = [0]*(length+1)\n",
    "    a[1] = weights[0]\n",
    "    for i in range(2,length+1):\n",
    "        a[i] = max(a[i-1], a[i-2]+weights[i-1])\n",
    "    \n",
    "    # Backward pass to reconstruct the solution set\n",
    "    j = len(a)-1\n",
    "    sol = []\n",
    "    while j>0:\n",
    "        if a[j-1] < a[j-2] + weights[j-1]: # the case that include jth weight\n",
    "            sol.append(j)\n",
    "            j -= 2\n",
    "        elif j == 1: # Base case 2, a[1] = weight[1] the first weight \n",
    "            sol.append(1)\n",
    "            j -= 1\n",
    "        else: \n",
    "            j -= 1\n",
    "    return a[-1], sol[::-1]"
   ]
  },
  {
   "cell_type": "code",
   "execution_count": 21,
   "metadata": {},
   "outputs": [
    {
     "name": "stdout",
     "output_type": "stream",
     "text": [
      "2617\n",
      "[2, 4, 7, 10]\n"
     ]
    }
   ],
   "source": [
    "# main\n",
    "file = open('MWIS_test_1.txt', 'r')\n",
    "weights = []\n",
    "for data in file.readlines()[1:]:\n",
    "    weights.append(int(data))\n",
    "\n",
    "weight_sum, weight_index = MWIS(weights)\n",
    "print(weight_sum)\n",
    "print(weight_index)"
   ]
  }
 ],
 "metadata": {
  "kernelspec": {
   "display_name": "Python 3",
   "language": "python",
   "name": "python3"
  },
  "language_info": {
   "codemirror_mode": {
    "name": "ipython",
    "version": 3
   },
   "file_extension": ".py",
   "mimetype": "text/x-python",
   "name": "python",
   "nbconvert_exporter": "python",
   "pygments_lexer": "ipython3",
   "version": "3.7.1"
  }
 },
 "nbformat": 4,
 "nbformat_minor": 2
}
