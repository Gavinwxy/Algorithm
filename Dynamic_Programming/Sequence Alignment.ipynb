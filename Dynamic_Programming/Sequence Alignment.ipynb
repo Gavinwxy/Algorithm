{
 "cells": [
  {
   "cell_type": "code",
   "execution_count": 51,
   "metadata": {},
   "outputs": [],
   "source": [
    "import numpy as np\n",
    "\n",
    "class SequenceAligntmentTool(object):\n",
    "    def __init__(self, seq1, seq2):\n",
    "        self.seq1 = seq1\n",
    "        self.seq2 = seq2\n",
    "        self.gapCost = 2\n",
    "        self.mismatchCost = 1\n",
    "        self.seq1Alignment = ''\n",
    "        self.seq2Alignment = ''\n",
    "        self.optimalCost = None\n",
    "\n",
    "        \n",
    "    def setGapCost(self, cost):\n",
    "        self.gapCost = cost\n",
    "    \n",
    "    def setMismatchCost(self, cost):\n",
    "        self.mismatchCost = cost\n",
    "    \n",
    "    def optimalAlignment(self):\n",
    "        len1 = len(self.seq1)\n",
    "        len2 = len(self.seq2)\n",
    "        \n",
    "        solTab = np.zeros((len1+1, len2+1))\n",
    "        \n",
    "        #forward pass to accumulate anwser\n",
    "        for i in range(len1):\n",
    "            solTab[i][0] = i*self.gapCost\n",
    "        for j in range(len2):\n",
    "            solTab[0][j] = j*self.gapCost\n",
    "        for i in range(1, len1+1):\n",
    "            for j in range(1, len2+1):\n",
    "                \n",
    "                s1 = solTab[i-1][j-1] + self.mismatchCost*(self.seq1[i-1] != self.seq2[j-1])\n",
    "                s2 = solTab[i-1][j] + self.gapCost\n",
    "                s3 = solTab[i][j-1] + self.gapCost\n",
    "                \n",
    "                solTab[i][j] = min(s1, s2, s3)\n",
    "                \n",
    "        #backward pass for solution reconstruction       \n",
    "        while i>1 or j>1:\n",
    "            s1 = solTab[i-1][j-1] + self.mismatchCost*(self.seq1[i-1] != self.seq2[j-1])\n",
    "            s2 = solTab[i-1][j] + self.gapCost\n",
    "            s3 = solTab[i][j-1] + self.gapCost\n",
    "\n",
    "            mins = min(s1, s2, s3)\n",
    "\n",
    "            if solTab[i][j] == s1:\n",
    "                self.seq1Alignment += self.seq1[i-1]\n",
    "                self.seq2Alignment += self.seq2[j-1]\n",
    "                i-=1\n",
    "                j-=1\n",
    "            elif solTab[i][j] == s2:\n",
    "                self.seq1Alignment += '_'\n",
    "                self.seq2Alignment += self.seq2[j-1]\n",
    "                i-=1\n",
    "            elif solTab[i][j] == s3:\n",
    "                self.seq1Alignment += self.seq1[i-1]\n",
    "                self.seq2Alignment += '_'\n",
    "                j-=1\n",
    "                \n",
    "        self.optimalCost = solTab[-1][-1]\n",
    "        return self.optimalCost\n",
    "    \n",
    "    def getAlignment(self):\n",
    "        return self.seq1Alignment, self.seq2Alignment\n",
    "    \n",
    "    def __str__(self):\n",
    "        return (\"seq1: \" + self.seq1 + '\\n' +\"seq2: \" + self.seq2 +'\\n' + \n",
    "                'seq1_opt: ' + self.seq1Alignment + '\\n' + 'seq2_opt: ' + self.seq2Alignment + '\\n' + \n",
    "               'Opt_Cost: ' + str(self.optimalCost))"
   ]
  },
  {
   "cell_type": "code",
   "execution_count": 52,
   "metadata": {},
   "outputs": [
    {
     "data": {
      "text/plain": [
       "224.0"
      ]
     },
     "execution_count": 52,
     "metadata": {},
     "output_type": "execute_result"
    }
   ],
   "source": [
    "file = open('NW_test_1.txt', 'r')\n",
    "data = file.readlines()\n",
    "gapCost = int(data[1].split(\" \")[0])\n",
    "mismatchCost = int(data[1].split(\" \")[1])\n",
    "seq1 = data[2].rstrip() #strips all kinds of trailing whitespace by default\n",
    "seq2 = data[3].rstrip() \n",
    "\n",
    "solver = SequenceAligntmentTool(seq1, seq2)\n",
    "solver.setGapCost(gapCost)\n",
    "solver.setMismatchCost(mismatchCost)\n",
    "solver.optimalAlignment()"
   ]
  },
  {
   "cell_type": "code",
   "execution_count": null,
   "metadata": {},
   "outputs": [],
   "source": []
  },
  {
   "cell_type": "code",
   "execution_count": 28,
   "metadata": {},
   "outputs": [
    {
     "data": {
      "text/plain": [
       "155"
      ]
     },
     "execution_count": 28,
     "metadata": {},
     "output_type": "execute_result"
    }
   ],
   "source": [
    "solver.seq2Alignment"
   ]
  },
  {
   "cell_type": "code",
   "execution_count": null,
   "metadata": {},
   "outputs": [],
   "source": []
  },
  {
   "cell_type": "code",
   "execution_count": 29,
   "metadata": {},
   "outputs": [
    {
     "data": {
      "text/plain": [
       "148"
      ]
     },
     "execution_count": 29,
     "metadata": {},
     "output_type": "execute_result"
    }
   ],
   "source": [
    "len(seq1)"
   ]
  },
  {
   "cell_type": "code",
   "execution_count": 30,
   "metadata": {},
   "outputs": [
    {
     "data": {
      "text/plain": [
       "123"
      ]
     },
     "execution_count": 30,
     "metadata": {},
     "output_type": "execute_result"
    }
   ],
   "source": [
    "len(seq2)"
   ]
  },
  {
   "cell_type": "code",
   "execution_count": null,
   "metadata": {},
   "outputs": [],
   "source": []
  }
 ],
 "metadata": {
  "kernelspec": {
   "display_name": "Python 3",
   "language": "python",
   "name": "python3"
  },
  "language_info": {
   "codemirror_mode": {
    "name": "ipython",
    "version": 3
   },
   "file_extension": ".py",
   "mimetype": "text/x-python",
   "name": "python",
   "nbconvert_exporter": "python",
   "pygments_lexer": "ipython3",
   "version": "3.7.1"
  }
 },
 "nbformat": 4,
 "nbformat_minor": 2
}
