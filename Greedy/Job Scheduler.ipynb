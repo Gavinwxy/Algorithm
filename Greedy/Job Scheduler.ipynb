{
 "cells": [
  {
   "cell_type": "code",
   "execution_count": 23,
   "metadata": {},
   "outputs": [],
   "source": [
    "file = open('./file.txt', 'r')\n",
    "data = file.readlines()\n",
    "ws = []\n",
    "ls= []\n",
    "for line in data[1:]:\n",
    "    w, l = line.split(\" \")\n",
    "    ws.append(int(w))\n",
    "    ls.append(int(l))\n",
    "jobs = [ws, ls]"
   ]
  },
  {
   "cell_type": "code",
   "execution_count": 82,
   "metadata": {},
   "outputs": [],
   "source": [
    "def GreedyDiff(jobs):\n",
    "    weights = jobs[0]\n",
    "    lenghts = jobs[1]\n",
    "    jobCollect =[]\n",
    "    for w, l in zip(weights, lenghts):\n",
    "        jobCollect.append((w-l, w, l))\n",
    "    # The sorted function sort tuple with the first element\n",
    "    # Notice that tie is broken by comparing the second element in the tuple\n",
    "    job_sort = sorted(jobCollect, reverse = True)\n",
    "   \n",
    "    ctime = 0\n",
    "    preLen = 0\n",
    "    for job in job_sort:\n",
    "        ctime += (job[2]+preLen) * job[1]\n",
    "        preLen += job[2]\n",
    "\n",
    "    return ctime"
   ]
  },
  {
   "cell_type": "code",
   "execution_count": 84,
   "metadata": {},
   "outputs": [],
   "source": [
    "def GreedyRatio(jobs):\n",
    "    weights = jobs[0]\n",
    "    lenghts = jobs[1]\n",
    "    jobCollect =[]\n",
    "    for w, l in zip(weights, lenghts):\n",
    "        jobCollect.append((w/l, w, l))\n",
    "    # The sorted function sort tuple with the first element\n",
    "    # Notice that tie is broken by comparing the second element in the tuple\n",
    "    job_sort = sorted(jobCollect, reverse = True)\n",
    "   \n",
    "    ctime = 0\n",
    "    preLen = 0\n",
    "    for job in job_sort:\n",
    "        ctime += (job[2]+preLen) * job[1]\n",
    "        preLen += job[2]\n",
    "\n",
    "    return ctime"
   ]
  },
  {
   "cell_type": "code",
   "execution_count": 83,
   "metadata": {},
   "outputs": [
    {
     "data": {
      "text/plain": [
       "68615"
      ]
     },
     "execution_count": 83,
     "metadata": {},
     "output_type": "execute_result"
    }
   ],
   "source": [
    "GreedyDiff(jobs)"
   ]
  },
  {
   "cell_type": "code",
   "execution_count": 85,
   "metadata": {},
   "outputs": [
    {
     "data": {
      "text/plain": [
       "67247"
      ]
     },
     "execution_count": 85,
     "metadata": {},
     "output_type": "execute_result"
    }
   ],
   "source": [
    "GreedyRatio(jobs)"
   ]
  }
 ],
 "metadata": {
  "kernelspec": {
   "display_name": "Python 3",
   "language": "python",
   "name": "python3"
  },
  "language_info": {
   "codemirror_mode": {
    "name": "ipython",
    "version": 3
   },
   "file_extension": ".py",
   "mimetype": "text/x-python",
   "name": "python",
   "nbconvert_exporter": "python",
   "pygments_lexer": "ipython3",
   "version": "3.7.1"
  }
 },
 "nbformat": 4,
 "nbformat_minor": 2
}
