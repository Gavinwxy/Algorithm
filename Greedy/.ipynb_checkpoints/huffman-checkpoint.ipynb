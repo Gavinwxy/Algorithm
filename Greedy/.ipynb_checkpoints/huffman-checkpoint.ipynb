{
 "cells": [
  {
   "cell_type": "code",
   "execution_count": 98,
   "metadata": {},
   "outputs": [],
   "source": [
    "from heapq import heapify, heappop, heappush\n",
    "# Given frequency of symbols, \n",
    "# calculate the minimized average code length by huffman encoding\n",
    "\n",
    "class Node(object):\n",
    "    def __init__(self, symbol, freq):\n",
    "        self.symbol = symbol\n",
    "        self.freq = freq\n",
    "        self.left = None\n",
    "        self.right = None\n",
    "    \n",
    "    # This function enables HEAP to compare frequency of nodes, returns the smallest one\n",
    "    def __lt__(self, other):\n",
    "        return self.freq < other.freq\n",
    "\n",
    "class Huffman(object):\n",
    "    def __init__(self, path):\n",
    "        self.path = path\n",
    "        self.heap = []\n",
    "        self.codes = {}\n",
    "        self.reverse_map = {}\n",
    "    \n",
    "    def freq_dict(self):\n",
    "        '''\n",
    "        Create a frequency dictionary based on the file\n",
    "        '''\n",
    "        freq_dict = {}\n",
    "        file = open(self.path, 'r')\n",
    "        for i, f in enumerate(file.readlines()[1:]):\n",
    "            freq_dict[str(i)] = int(f)\n",
    "        return freq_dict\n",
    "    \n",
    "    def make_heap(self):\n",
    "        '''\n",
    "        create heap based on file\n",
    "        '''\n",
    "        file = open(self.path, 'r')\n",
    "        for i, f in enumerate(file.readlines()[1:]):\n",
    "            self.heap.append(Node(str(i), int(f)))\n",
    "        heapify(self.heap)\n",
    "        \n",
    "    def merge_node(self):\n",
    "        '''\n",
    "        Merger node according to huffman coding rule\n",
    "        '''\n",
    "        while len(self.heap) > 1:\n",
    "            node1 = heappop(self.heap)\n",
    "            node2 = heappop(self.heap)\n",
    "            freq = node1.freq + node2.freq\n",
    "            merged = Node(None, freq)\n",
    "\n",
    "            merged.left = node1\n",
    "            merged.right = node2\n",
    "\n",
    "            heappush(self.heap, merged)\n",
    "    \n",
    "    def __code_helper(self, root, current_code):\n",
    "        if root is None:\n",
    "            return None\n",
    "        \n",
    "        if root.symbol is not None:\n",
    "            self.codes[root.symbol] = current_code\n",
    "            self.reverse_map[current_code] = root.symbol\n",
    "            return None\n",
    "        \n",
    "        ## 精妙之处， 沿着树来增加编码\n",
    "        self.__code_helper(root.left, current_code + '0')\n",
    "        self.__code_helper(root.right, current_code + '1')\n",
    "    \n",
    "    def encode(self):\n",
    "        root = heappop(self.heap)\n",
    "        current_code = \"\"\n",
    "        self.__code_helper(root, current_code)\n",
    "\n",
    "    def avg_length(self):\n",
    "        '''Calculate average encoding length'''\n",
    "        if len(self.codes) == 0:\n",
    "            print('No valid encoding !!!')\n",
    "            return None\n",
    "        freqs = self.freq_dict()\n",
    "        acc_len = 0\n",
    "        freq_sum = 0\n",
    "        for symb in self.codes.keys():\n",
    "            acc_len += len(self.codes[symb])*freqs[symb]\n",
    "            freq_sum += freqs[symb]\n",
    "            \n",
    "        return acc_len / freq_sum"
   ]
  },
  {
   "cell_type": "code",
   "execution_count": 51,
   "metadata": {},
   "outputs": [],
   "source": [
    "file = open('huffman_test_1.txt', 'r')\n",
    "fs = []\n",
    "freq_dict = {}\n",
    "for i, f in enumerate(file.readlines()):\n",
    "    fs.append(Node(str(i), int(f)))\n",
    "    freq_dict[str(i)] = int(f)\n",
    "    symb+=1\n",
    "    \n",
    "heapify(fs)\n",
    "huffman = Huffman(fs)"
   ]
  },
  {
   "cell_type": "code",
   "execution_count": 52,
   "metadata": {},
   "outputs": [],
   "source": [
    "huffman.merge_node()\n",
    "huffman.encode()"
   ]
  },
  {
   "cell_type": "code",
   "execution_count": 99,
   "metadata": {},
   "outputs": [],
   "source": [
    "path = './huffman_test_2.txt'\n",
    "huffman = Huffman(path)\n",
    "huffman.make_heap()\n",
    "huffman.merge_node()\n",
    "huffman.encode()"
   ]
  },
  {
   "cell_type": "code",
   "execution_count": 90,
   "metadata": {},
   "outputs": [
    {
     "data": {
      "text/plain": [
       "3.6681626187961984"
      ]
     },
     "execution_count": 90,
     "metadata": {},
     "output_type": "execute_result"
    }
   ],
   "source": [
    "huffman.avg_length()"
   ]
  },
  {
   "cell_type": "code",
   "execution_count": 91,
   "metadata": {},
   "outputs": [
    {
     "data": {
      "text/plain": [
       "{'9': '000',\n",
       " '4': '0010',\n",
       " '12': '0011',\n",
       " '5': '010',\n",
       " '0': '011',\n",
       " '14': '100',\n",
       " '3': '101',\n",
       " '1': '110000',\n",
       " '8': '110001',\n",
       " '11': '11001',\n",
       " '7': '1101',\n",
       " '10': '1110',\n",
       " '13': '11110',\n",
       " '6': '111110',\n",
       " '2': '111111'}"
      ]
     },
     "execution_count": 91,
     "metadata": {},
     "output_type": "execute_result"
    }
   ],
   "source": [
    "huffman.codes"
   ]
  },
  {
   "cell_type": "code",
   "execution_count": 84,
   "metadata": {},
   "outputs": [
    {
     "data": {
      "text/plain": [
       "{'0': 10,\n",
       " '1': 37,\n",
       " '2': 59,\n",
       " '3': 43,\n",
       " '4': 27,\n",
       " '5': 30,\n",
       " '6': 96,\n",
       " '7': 96,\n",
       " '8': 71,\n",
       " '9': 8,\n",
       " '10': 76}"
      ]
     },
     "execution_count": 84,
     "metadata": {},
     "output_type": "execute_result"
    }
   ],
   "source": [
    "huffman.freq_dict()"
   ]
  },
  {
   "cell_type": "code",
   "execution_count": 93,
   "metadata": {},
   "outputs": [
    {
     "data": {
      "text/plain": [
       "{'path': './huffman_test_2.txt',\n",
       " 'heap': [],\n",
       " 'codes': {'9': '000',\n",
       "  '4': '0010',\n",
       "  '12': '0011',\n",
       "  '5': '010',\n",
       "  '0': '011',\n",
       "  '14': '100',\n",
       "  '3': '101',\n",
       "  '1': '110000',\n",
       "  '8': '110001',\n",
       "  '11': '11001',\n",
       "  '7': '1101',\n",
       "  '10': '1110',\n",
       "  '13': '11110',\n",
       "  '6': '111110',\n",
       "  '2': '111111'},\n",
       " 'reverse_map': {'000': '9',\n",
       "  '0010': '4',\n",
       "  '0011': '12',\n",
       "  '010': '5',\n",
       "  '011': '0',\n",
       "  '100': '14',\n",
       "  '101': '3',\n",
       "  '110000': '1',\n",
       "  '110001': '8',\n",
       "  '11001': '11',\n",
       "  '1101': '7',\n",
       "  '1110': '10',\n",
       "  '11110': '13',\n",
       "  '111110': '6',\n",
       "  '111111': '2'}}"
      ]
     },
     "execution_count": 93,
     "metadata": {},
     "output_type": "execute_result"
    }
   ],
   "source": [
    "vars(huffman)"
   ]
  },
  {
   "cell_type": "markdown",
   "metadata": {},
   "source": [
    "## Notes:\n",
    "Huffman编码实现中精髓之处在于__code_helper()这个函数。这个函数解决了从根到叶编码的问题，利用了递归的方式来操作？？？"
   ]
  },
  {
   "cell_type": "markdown",
   "metadata": {},
   "source": [
    "## Reference:\n",
    "1. Huffman coding: http://bhrigu.me/blog/2017/01/17/huffman-coding-python-implementation/\n",
    "2. Enable heap to compare objects: https://stackoverflow.com/questions/3954530/how-to-make-heapq-evaluate-the-heap-off-of-a-specific-attribute"
   ]
  },
  {
   "cell_type": "code",
   "execution_count": null,
   "metadata": {},
   "outputs": [],
   "source": []
  }
 ],
 "metadata": {
  "kernelspec": {
   "display_name": "Python 3",
   "language": "python",
   "name": "python3"
  },
  "language_info": {
   "codemirror_mode": {
    "name": "ipython",
    "version": 3
   },
   "file_extension": ".py",
   "mimetype": "text/x-python",
   "name": "python",
   "nbconvert_exporter": "python",
   "pygments_lexer": "ipython3",
   "version": "3.7.1"
  }
 },
 "nbformat": 4,
 "nbformat_minor": 2
}
